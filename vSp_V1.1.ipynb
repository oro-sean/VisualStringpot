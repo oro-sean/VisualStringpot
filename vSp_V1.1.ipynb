{
 "cells": [
  {
   "cell_type": "code",
   "execution_count": null,
   "metadata": {
    "collapsed": true
   },
   "outputs": [],
   "source": [
    "##### Visual String Pot\n",
    "# This program takes an image and finds the centre of an orange stripe and green dot. It then use the length of the orange stripe to scale the difference between the clusters to calculate the length.\n",
    "# it uses FAISS kmeans clustering to find a cluster of the approximate size of the stripe and dot.\n",
    "# the stripe and dot are then rotated onto the principle component of the stripe\n",
    "# the user defines a reduction and enchancment factotor which reduces the numbe rof pixcel and enchances the colours when the images are imported.\n",
    "# the uses then defines the window to focus clustering and the aprox dimensions of the striope and dot\n",
    "# the results are then exported as a csv with index, fileName, timeStamp, measurement, dotMedian, stripeMedian, scale, dotLength,"
   ]
  },
  {
   "cell_type": "code",
   "execution_count": null,
   "outputs": [],
   "source": [
    "#### In version 1.1\n",
    "# image correction and scaling simplified\n",
    "# plotting impoved\n",
    "# hyperparmter entry streamlined\n",
    "# post calibration, offset and scaling\n",
    "# improved layout to add option for other clustering methods later"
   ],
   "metadata": {
    "collapsed": false,
    "pycharm": {
     "name": "#%%\n"
    }
   }
  },
  {
   "cell_type": "code",
   "execution_count": null,
   "outputs": [],
   "source": [
    "## Import packages and set up environemnt\n",
    "from os import listdir\n",
    "from os.path import isfile, join\n",
    "from PIL import Image, ImageEnhance\n",
    "import numpy as np\n",
    "import matplotlib.pyplot as plt\n",
    "%matplotlib notebook\n",
    "import pandas as pd\n",
    "from IPython.display import clear_output\n",
    "import time\n",
    "import faiss\n",
    "from sklearn.decomposition import PCA\n",
    "import vSp_functions_V1_1"
   ],
   "metadata": {
    "collapsed": false,
    "pycharm": {
     "name": "#%%\n"
    }
   }
  },
  {
   "cell_type": "code",
   "execution_count": null,
   "outputs": [],
   "source": [
    "## define working directory and which files to sample\n",
    "in_dir = '/mnt/veeringDL_storage/220420-mg/' # define directory containing all gopro images\n",
    "out_dir = '/mnt/home/9.0 Data Jobs/' # define output directory\n",
    "file_list = [f for f in listdir(in_dir) if isfile(join(in_dir, f))] # inspect directory and return list of files\n",
    "print(str(len(file_list))+' Images found in folder')"
   ],
   "metadata": {
    "collapsed": false,
    "pycharm": {
     "name": "#%%\n"
    }
   }
  },
  {
   "cell_type": "code",
   "execution_count": null,
   "outputs": [],
   "source": [
    "## user defines which images to sample, trget size, enchancemt factor and type\n",
    "sample = [10,2000,5000,7000] # Set which 4 images to sample\n",
    "targetSize = 1200000 # define target size in pixcels\n",
    "enchancement = 1.5 # define enchancement value\n",
    "ench_type = 'Bright' # define enchancement type"
   ],
   "metadata": {
    "collapsed": false,
    "pycharm": {
     "name": "#%%\n"
    }
   }
  },
  {
   "cell_type": "code",
   "execution_count": null,
   "outputs": [],
   "source": [
    "## load sample images and plot\n",
    "timeStamp, pixcels = loadImages(in_dir, file_list, [0], 1, False, False, False) # load a single image at full resolution\n",
    "h, w, l, d = orig_shape = tuple(pixcels.shape) # return the dimensions of the original image\n",
    "reduction = int((H*w)/targetSize) # caclulate the required reduction\n",
    "print('A reduction factor of '+str(reduction)+' was adopted')\n",
    "timeStamp, pixcels = loadImages(directory, file_list, sample, reduction, enchancement, False, ench_type)\n",
    "plotSamples(pixcels, True, False, False)"
   ],
   "metadata": {
    "collapsed": false,
    "pycharm": {
     "name": "#%%\n"
    }
   }
  },
  {
   "cell_type": "code",
   "execution_count": null,
   "outputs": [],
   "source": [
    "## User defines where to crop image\n",
    "h1 = 130 # horizontal to start image at\n",
    "h2 = 325 # horizontal to end image at\n",
    "v1 = 130 # vertical to start image at\n",
    "v2 = 225 # vertical to end image at"
   ],
   "metadata": {
    "collapsed": false,
    "pycharm": {
     "name": "#%%\n"
    }
   }
  },
  {
   "cell_type": "code",
   "execution_count": null,
   "outputs": [],
   "source": [
    "dim = [v1, v2, h1, h2] # make dim variable as list to pass to load images\n",
    "timeStamp, pixcels = loadImages(directory, file_list, sample, reduction, enchancement, dim, ench_type)\n",
    "plotSamples(pixcels, True, False, False)"
   ],
   "metadata": {
    "collapsed": false,
    "pycharm": {
     "name": "#%%\n"
    }
   }
  },
  {
   "cell_type": "code",
   "execution_count": null,
   "outputs": [],
   "source": [
    "stripe_left = 95 # left bound of stripe\n",
    "stripe_right = 185 # right bound of stripe\n",
    "stripe_top = 72 # top bound of stripe\n",
    "stripe_bottom = 92 # bottom bound of stripe\n",
    "dot_left = 13 # left bound dot\n",
    "dot_right = 43 # right bound of dot\n",
    "dot_top = 17 # top bound of dot\n",
    "dot_bottom = 36 # bottom bound of dot\n",
    "area_factor = 1.1 # factor to multiply aproximmated area by\n",
    "stepAfterStripeCluss = 1\n",
    "stripe_area = abs(stripe_right - stripe_left) * abs(stripe_bottom - stripe_top) # calcluate area of stripe in pixcels\n",
    "dot_area = abs(dot_right - dot_left) * abs(dot_bottom - dot_top) # calculate area of dot in pixcels\n",
    "fig_area = abs(v2-v1) * abs(h2-h1) # calculate area of figure with\n",
    "stripeFrac = area_factor * stripe_area / fig_area # expected fraction of image to be the stripe\n",
    "dotFrac = area_factor * dot_area / fig_area # expected fraction of image to be the dot\n",
    "\n",
    "print(\"The stripe fraction used is \"+str(stripeFrac))\n",
    "print(\"the dot fraction used is \"+str(dotFrac))"
   ],
   "metadata": {
    "collapsed": false,
    "pycharm": {
     "name": "#%%\n"
    }
   }
  },
  {
   "cell_type": "code",
   "execution_count": null,
   "outputs": [],
   "source": [
    "## defien the number of iterations and # clusters to start with for faiss Kmeans\n",
    "it = 10 # # interations to perform in clustering\n",
    "stripe_startNo = 3 # number of initial clusters"
   ],
   "metadata": {
    "collapsed": false,
    "pycharm": {
     "name": "#%%\n"
    }
   }
  },
  {
   "cell_type": "code",
   "execution_count": null,
   "outputs": [],
   "source": [
    "## load all images, create image array to save RGB array before scaling and save original input array dimensions to rebuild later\n",
    "timeStamp, pixcels = loadImages(directory, file_list, False, reduction, enchancement, dim, ench_type)\n",
    "allImages = pixcels # save original RGB pixcels for plotting latter\n",
    "pixcels = (pixcels - pixcels.mean(axis=(0,1,2), keepdims=True )) / pixcels.std(axis = (0,1,2)) # scale pixcels for clustering\n",
    "h, w, l, d = orig_shape = tuple(pixcels.shape) # get shape of pixcels array\n",
    "## use faiss kmeans clustering to find all stripe clusters\n",
    "## do i add x and y positions??\n",
    "## do i need to scale if including x and y positions, yes you do you numpty nearly order magnitude difference\n",
    "pixcels = np.reshape(pixcels, (h*w*l, d)) # reshape and change data type of pixcels to suit faiss kmeans"
   ],
   "metadata": {
    "collapsed": false,
    "pycharm": {
     "name": "#%%\n"
    }
   }
  },
  {
   "cell_type": "code",
   "execution_count": null,
   "outputs": [],
   "source": [
    "## Run faiss kmeans to find initial stripe cluster\n",
    "D, I, kmeans, stripeColour =  faissCluster(pixcels, stripeFrac, stripe_startNo, it) # perform faiss clustering looking for stripe"
   ],
   "metadata": {
    "collapsed": false,
    "pycharm": {
     "name": "#%%\n"
    }
   }
  },
  {
   "cell_type": "code",
   "execution_count": null,
   "outputs": [],
   "source": [
    "## scale image so as all stripes are the same intensity / shade\n",
    "stripe_loc = np.array(np.where(np.reshape(I, (h,w,l)) == stripeColour)) # get stripe locations from reshaped labels array\n",
    "stripeMedian, stripe_len, Vh, stripe_loc = GetStats(stripe_loc,\n",
    "                                                    25,\n",
    "                                                    75,\n",
    "                                                    25,\n",
    "                                                    75) # find cleaned stripe Loc\n",
    "\n",
    "\n",
    "## need to find the average stripe location and then find the pixcel intensity at these locations\n",
    "# find average locations\n",
    "# find the average rgb value at these locations\n",
    "# scale all rgb by the factor to make this match the cluster centroid\n",
    "\n",
    "# add x and y components\n",
    "\n",
    "# repeat faiss kmeans"
   ],
   "metadata": {
    "collapsed": false,
    "pycharm": {
     "name": "#%%\n"
    }
   }
  },
  {
   "cell_type": "code",
   "execution_count": null,
   "outputs": [],
   "source": [
    "# Define the cleaning parameters\n",
    "perpClean_min = 25\n",
    "perpClean_max = 75\n",
    "rotClean_min = 25\n",
    "rotClean_max = 75"
   ],
   "metadata": {
    "collapsed": false,
    "pycharm": {
     "name": "#%%\n"
    }
   }
  },
  {
   "cell_type": "code",
   "execution_count": null,
   "outputs": [],
   "source": [
    "## use PCA to find the rotation of the stripe in the image\n",
    "stripe_loc = np.array(np.where(np.reshape(I, (h,w,l)) == stripeColour)) # get stripe locations from reshaped labels array\n",
    "stripeMedian, stripe_len, Vh, stripe_loc = GetStats(stripe_loc,\n",
    "                                                    perpClean_min,\n",
    "                                                    perpClean_max,\n",
    "                                                    rotClean_min,\n",
    "                                                    rotClean_max) # find cleaned stripe Loc\n",
    "\n",
    "## repeat Get stats on cleaned stripe_loc\n",
    "stripeMedian, stripe_len, Vh, stripe_loc = GetStats(stripe_loc,\n",
    "                                                    1,\n",
    "                                                    99,\n",
    "                                                    1,\n",
    "                                                    99) # find cleaned stripe Loc"
   ],
   "metadata": {
    "collapsed": false,
    "pycharm": {
     "name": "#%%\n"
    }
   }
  },
  {
   "cell_type": "code",
   "execution_count": null,
   "outputs": [],
   "source": [
    "# Define the cleaning parameters\n",
    "perpClean_min = 15\n",
    "perpClean_max = 85\n",
    "rotClean_min = 10\n",
    "rotClean_max = 90"
   ],
   "metadata": {
    "collapsed": false,
    "pycharm": {
     "name": "#%%\n"
    }
   }
  },
  {
   "cell_type": "code",
   "execution_count": null,
   "outputs": [],
   "source": [
    "dot_startNo = len(kmeans.centroids) + stepAfterStripeCluss # of clusters to start finding the dot cluster\n",
    "## add the positions projected onto the 2nd principal component to aid in finding dot cluster\n",
    "dot_search = addInd(w, h, l, pixcels, Vh) # add indices\n",
    "## Cluster to find dots\n",
    "D, I, kmeans, dotColour =  faissCluster(dot_search, dotFrac, dot_startNo, it) # perform faiss clustering looking for dot\n",
    "dot_loc = np.array(np.where(np.reshape(I, (h,w,l)) == dotColour)) # get dot locations x,y,l from reshaped labels array\n",
    "dot_perp = dot_loc[0:2,:].T @ Vh[:,1] # rotate dot x and y onto second principle component of stripe to clean\n",
    "perp_keep = cleanIQR(perpClean_max,perpClean_min,dot_perp, False, True) # get true fals of values to keep in dot_loc based on outliers from dot on the 2nd principle component\n",
    "## clean dot loc by perp keep\n",
    "perp_keep = np.reshape(perp_keep,(1,-1)) # make 2d array with 1 row\n",
    "perp_keep = np.vstack((perp_keep,perp_keep,perp_keep)) # stack logical ontop of itself 3 times to match shape of dot_loc\n",
    "dot_loc = np.reshape(dot_loc[perp_keep],(3,-1)) # subset dot_loc using perp_keep and return to origninal shape\n",
    "dot_rot = dot_loc[0:2,:].T @ Vh[:,0] # rotate the remianing dots onto first principle component of stripe\n",
    "rot_keep = cleanIQR(rotClean_max,rotClean_min, dot_rot, False, True) # clean dots by IQR\n",
    "rot_keep = np.reshape(rot_keep,(1,-1)) # reshape to make 2d array with 1 row\n",
    "rot_keep = np.vstack((rot_keep,rot_keep,rot_keep)) # stack to match shape of dot_loc\n",
    "dot_loc = np.reshape(dot_loc[rot_keep],(3,-1)) # subset using rot_keep and reshape to original shape\n",
    "dot_rot = dot_loc[0:2,:].T @ Vh[:,0] # rotate remaining dots onto first principal component\n",
    "dot_rot = np.vstack((dot_rot,dot_loc[2,:])) # stack the image number and rotated values ontop of eachother\n",
    "dotsDF = pd.DataFrame(np.transpose(dot_rot), columns=['Dot', 'Pic']) # change fron NP array to data frame for easy grouping\n",
    "dataOut = dotsDF.groupby('Pic').median()"
   ],
   "metadata": {
    "collapsed": false,
    "pycharm": {
     "name": "#%%\n"
    }
   }
  },
  {
   "cell_type": "code",
   "execution_count": null,
   "outputs": [],
   "source": [
    "knownLength = -87 # known length of the stripe, negative if measure should get larger when dot is closer to stripe\n",
    "offset = -127.5 # known zero offset\n",
    "scale = knownLength / stripe_len # calculate the pixcel to mm scale\n",
    "print('The scale used is '+str(scale)+' mm/pixcel')\n",
    "c = 0 # set linear correction\n",
    "m = 1.17 # set linear correction\n",
    "minDotA = 0.6 # define min area factor to still accept a dot\n",
    "maxDotA = 1 + (1-min) # define the max area factor to still accept as a dot"
   ],
   "metadata": {
    "collapsed": false,
    "pycharm": {
     "name": "#%%\n"
    }
   }
  },
  {
   "cell_type": "code",
   "execution_count": null,
   "outputs": [],
   "source": [
    "dataOut = dataOut.merge(dotsDF.groupby('Pic').count(), left_index = True, right_index = True)\n",
    "dataOut = dataOut.merge(pd.DataFrame(file_list), left_index = True, right_index = True)\n",
    "dataOut = dataOut.merge(pd.DataFrame(timeStamp), left_index = True, right_index = True)\n",
    "dataOut = dataOut.rename(columns = {'Dot_x' : 'Dot', 'Dot_y': 'Count', '0_x': 'file', '0_y': 'timeStamp'})\n",
    "dataOut = dataOut[dataOut['Count'] > minDotA*dot_area ] # filter dots out that dont contai enough points\n",
    "dataOut = dataOut[dataOut['Count'] < maxDotA*dot_area ] # filter dots out that contain to many points\n",
    "dataOut['measure'] = ((abs(stripeMedian - dataOut.Dot) * scale) - offset)\n",
    "dataOut['measure'] = dataOut.measure * m + c # apply linear correction\n",
    "dataOut = dataOut.sort_values('timeStamp')\n",
    "# add date to output file name\n",
    "dataOut.to_csv(out_dir+'vSp_'+str()+'.csv')\n",
    "print(\"dataOut saved in \"+out_dir+'vSp.csv\\n\\n')\n",
    "print(str(dataOut.head())+'\\n\\n')\n",
    "print(dataOut.describe())\n",
    "plt.close()\n",
    "plt.plot(dataOut.timeStamp, dataOut.measure)"
   ],
   "metadata": {
    "collapsed": false,
    "pycharm": {
     "name": "#%%\n"
    }
   }
  }
 ],
 "metadata": {
  "kernelspec": {
   "display_name": "Python 3",
   "language": "python",
   "name": "python3"
  },
  "language_info": {
   "codemirror_mode": {
    "name": "ipython",
    "version": 2
   },
   "file_extension": ".py",
   "mimetype": "text/x-python",
   "name": "python",
   "nbconvert_exporter": "python",
   "pygments_lexer": "ipython2",
   "version": "2.7.6"
  }
 },
 "nbformat": 4,
 "nbformat_minor": 0
}